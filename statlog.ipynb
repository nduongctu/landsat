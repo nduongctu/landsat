{
  "nbformat": 4,
  "nbformat_minor": 0,
  "metadata": {
    "colab": {
      "provenance": []
    },
    "kernelspec": {
      "name": "python3",
      "display_name": "Python 3"
    },
    "language_info": {
      "name": "python"
    }
  },
  "cells": [
    {
      "cell_type": "markdown",
      "source": [
        "Thư viện và đọc file csv\n",
        "sat.trn là file train\n",
        "sat.tst là file test"
      ],
      "metadata": {
        "id": "nmqonqj7lqaE"
      }
    },
    {
      "cell_type": "markdown",
      "source": [
        "Là một bộ dữ liệu trên trang web Machine Learning Repository của Đại học California, Irvine. Bộ dữ liệu này chứa thông tin về hình ảnh vệ tinh của một khu vực được chia thành 7 lớp khác nhau. Dữ liệu này được sử dụng để thực hiện các bài toán phân lớp đa lớp trong machine learning.\n",
        "\n",
        "Bộ dữ liệu chứa 6.435 mẫu và mỗi mẫu được biểu diễn bằng 36 thuộc tính. Các thuộc tính này biểu diễn đặc trưng của vùng đất được quét bởi vệ tinh, bao gồm thông tin về màu sắc, độ sáng, độ tương phản, độ vị trí và độ đồng nhất của vùng. Các lớp của dữ liệu là đại diện cho các mẫu đất khác nhau, bao gồm các khu vực nông thôn, khu dân cư, vùng cây bụi, đất bãi bồi và các vùng khác.\n",
        "\n"
      ],
      "metadata": {
        "id": "PHdbmY8KH-yv"
      }
    },
    {
      "cell_type": "markdown",
      "source": [
        "Statlog (Landsat Satellite) là tên của một tập dữ liệu được sử dụng trong các nghiên cứu về học máy và thị giác máy tính. Tập dữ liệu này chứa các hình ảnh vệ tinh Landsat về đa dạng các khu vực đất đai trên toàn thế giới. Mục đích của tập dữ liệu Statlog (Landsat Satellite) là để huấn luyện các mô hình phân loại hình ảnh để phân loại các khu vực đất đai khác nhau dựa trên thông tin về các chỉ số cảnh quan (như độ sáng, màu sắc và chiều cao). Tập dữ liệu này cũng được sử dụng để nghiên cứu các phương pháp giải quyết vấn đề phân loại hình ảnh trong lĩnh vực thị giác máy tính.\n",
        "\n"
      ],
      "metadata": {
        "id": "g_IZF5VZhaKY"
      }
    },
    {
      "cell_type": "code",
      "source": [
        "import numpy as np \n",
        "import pandas as pd \n",
        "from sklearn.ensemble import RandomForestClassifier \n",
        "from sklearn.metrics import accuracy_score \n",
        "from sklearn.model_selection import train_test_split \n",
        "# Load dữ liệu\n",
        "url = 'https://archive.ics.uci.edu/ml/machine-learning-databases/statlog/satimage/sat.trn'\n",
        "sat_train = pd.read_csv(url, header=None, sep=' ');\n",
        "print(sat_train.shape)\n",
        "url1 = 'https://archive.ics.uci.edu/ml/machine-learning-databases/statlog/satimage/sat.tst'\n",
        "sat_test = pd.read_csv(url1, header=None, sep=' ',);\n",
        "print(sat_test.shape)\n",
        "# Chia dữ liệu thành các feature vectors và nhãn\n",
        "X_train = sat_train.iloc[:, :-1] \n",
        "y_train = sat_train.iloc[:, -1] \n",
        "X_test = sat_test.iloc[:, :-1] \n",
        "y_test = sat_test.iloc[:, -1] \n",
        "\n",
        "sat_train.rename(columns={36: 'Class'}, inplace=True)\n",
        "\n",
        "\n",
        "sat_train.head()\n",
        "sat_train['Class'].value_counts()\n",
        "\n"
      ],
      "metadata": {
        "id": "eFQx-9oGfq1R",
        "colab": {
          "base_uri": "https://localhost:8080/"
        },
        "outputId": "f19e6aad-9ddc-4310-ac20-a9e3725db9c0"
      },
      "execution_count": null,
      "outputs": [
        {
          "output_type": "stream",
          "name": "stdout",
          "text": [
            "(4435, 37)\n",
            "(2000, 37)\n"
          ]
        },
        {
          "output_type": "execute_result",
          "data": {
            "text/plain": [
              "1    1072\n",
              "7    1038\n",
              "3     961\n",
              "2     479\n",
              "5     470\n",
              "4     415\n",
              "Name: Class, dtype: int64"
            ]
          },
          "metadata": {},
          "execution_count": 83
        }
      ]
    },
    {
      "cell_type": "code",
      "source": [
        "# Đặt tên cột\n",
        "txt = ['top_left1', 'top_left2', 'top_left3', 'top_left4', \n",
        "       'top_center1', 'top_center2', 'top_center3', 'top_center4',\n",
        "       'top_right1', 'top_right2', 'top_right3', 'top_right4',\n",
        "       'middle_left1', 'middle_left2', 'middle_left3', 'middle_left4', \n",
        "       'middle_center1', 'middle_center2', 'middle_center3', 'middle_center4',\n",
        "       'middle_right1', 'middle_right2', 'middle_right3', 'middle_right4',\n",
        "       'bottom_left1', 'bottom_left2', 'bottom_left3', 'bottom_left4', \n",
        "       'bottom_center1', 'bottom_center2', 'bottom_center3', 'bottom_center4',\n",
        "       'bottom_right1', 'bottom_right2', 'bottom_right3', 'bottom_right4', 'Class']\n",
        "\n",
        "sat_train = pd.read_csv(url, header=None, sep=' ',names=txt,dtype=str);\n",
        "sat_train"
      ],
      "metadata": {
        "colab": {
          "base_uri": "https://localhost:8080/",
          "height": 487
        },
        "id": "836Xvr9fVaqH",
        "outputId": "e505a850-9f21-4641-ff71-d9cddba0b20c"
      },
      "execution_count": null,
      "outputs": [
        {
          "output_type": "execute_result",
          "data": {
            "text/plain": [
              "     top_left1 top_left2 top_left3 top_left4 top_center1 top_center2  \\\n",
              "0           92       115       120        94          84         102   \n",
              "1           84       102       106        79          84         102   \n",
              "2           84       102       102        83          80         102   \n",
              "3           80       102       102        79          84          94   \n",
              "4           84        94       102        79          80          94   \n",
              "...        ...       ...       ...       ...         ...         ...   \n",
              "4430        56        64       108        96          64          71   \n",
              "4431        64        71       108        96          68          75   \n",
              "4432        68        75       108        96          71          87   \n",
              "4433        71        87       108        88          71          91   \n",
              "4434        71        91       100        81          76          95   \n",
              "\n",
              "     top_center3 top_center4 top_right1 top_right2  ... bottom_left4  \\\n",
              "0            106          79         84        102  ...          104   \n",
              "1            102          83         80        102  ...          100   \n",
              "2            102          79         84         94  ...           87   \n",
              "3            102          79         80         94  ...           79   \n",
              "4             98          76         80        102  ...           79   \n",
              "...          ...         ...        ...        ...  ...          ...   \n",
              "4430         108          96         68         75  ...           92   \n",
              "4431         108          96         71         87  ...           96   \n",
              "4432         108          88         71         91  ...           89   \n",
              "4433         100          81         76         95  ...           89   \n",
              "4434         108          88         80         95  ...           85   \n",
              "\n",
              "     bottom_center1 bottom_center2 bottom_center3 bottom_center4  \\\n",
              "0                88            121            128            100   \n",
              "1                84            107            113             87   \n",
              "2                84             99            104             79   \n",
              "3                84             99            104             79   \n",
              "4                84            103            104             79   \n",
              "...             ...            ...            ...            ...   \n",
              "4430             66             83            108             96   \n",
              "4431             66             87            104             89   \n",
              "4432             63             87            104             89   \n",
              "4433             70            100            104             85   \n",
              "4434             70             91            104             85   \n",
              "\n",
              "     bottom_right1 bottom_right2 bottom_right3 bottom_right4 Class  \n",
              "0               84           107           113            87     3  \n",
              "1               84            99           104            79     3  \n",
              "2               84            99           104            79     3  \n",
              "3               84           103           104            79     3  \n",
              "4               79           107           109            87     3  \n",
              "...            ...           ...           ...           ...   ...  \n",
              "4430            66            87           104            89     5  \n",
              "4431            63            87           104            89     5  \n",
              "4432            70           100           104            85     4  \n",
              "4433            70            91           104            85     4  \n",
              "4434            63            91           100            81     4  \n",
              "\n",
              "[4435 rows x 37 columns]"
            ],
            "text/html": [
              "\n",
              "  <div id=\"df-34166d14-17df-4327-977d-0179aab120d3\">\n",
              "    <div class=\"colab-df-container\">\n",
              "      <div>\n",
              "<style scoped>\n",
              "    .dataframe tbody tr th:only-of-type {\n",
              "        vertical-align: middle;\n",
              "    }\n",
              "\n",
              "    .dataframe tbody tr th {\n",
              "        vertical-align: top;\n",
              "    }\n",
              "\n",
              "    .dataframe thead th {\n",
              "        text-align: right;\n",
              "    }\n",
              "</style>\n",
              "<table border=\"1\" class=\"dataframe\">\n",
              "  <thead>\n",
              "    <tr style=\"text-align: right;\">\n",
              "      <th></th>\n",
              "      <th>top_left1</th>\n",
              "      <th>top_left2</th>\n",
              "      <th>top_left3</th>\n",
              "      <th>top_left4</th>\n",
              "      <th>top_center1</th>\n",
              "      <th>top_center2</th>\n",
              "      <th>top_center3</th>\n",
              "      <th>top_center4</th>\n",
              "      <th>top_right1</th>\n",
              "      <th>top_right2</th>\n",
              "      <th>...</th>\n",
              "      <th>bottom_left4</th>\n",
              "      <th>bottom_center1</th>\n",
              "      <th>bottom_center2</th>\n",
              "      <th>bottom_center3</th>\n",
              "      <th>bottom_center4</th>\n",
              "      <th>bottom_right1</th>\n",
              "      <th>bottom_right2</th>\n",
              "      <th>bottom_right3</th>\n",
              "      <th>bottom_right4</th>\n",
              "      <th>Class</th>\n",
              "    </tr>\n",
              "  </thead>\n",
              "  <tbody>\n",
              "    <tr>\n",
              "      <th>0</th>\n",
              "      <td>92</td>\n",
              "      <td>115</td>\n",
              "      <td>120</td>\n",
              "      <td>94</td>\n",
              "      <td>84</td>\n",
              "      <td>102</td>\n",
              "      <td>106</td>\n",
              "      <td>79</td>\n",
              "      <td>84</td>\n",
              "      <td>102</td>\n",
              "      <td>...</td>\n",
              "      <td>104</td>\n",
              "      <td>88</td>\n",
              "      <td>121</td>\n",
              "      <td>128</td>\n",
              "      <td>100</td>\n",
              "      <td>84</td>\n",
              "      <td>107</td>\n",
              "      <td>113</td>\n",
              "      <td>87</td>\n",
              "      <td>3</td>\n",
              "    </tr>\n",
              "    <tr>\n",
              "      <th>1</th>\n",
              "      <td>84</td>\n",
              "      <td>102</td>\n",
              "      <td>106</td>\n",
              "      <td>79</td>\n",
              "      <td>84</td>\n",
              "      <td>102</td>\n",
              "      <td>102</td>\n",
              "      <td>83</td>\n",
              "      <td>80</td>\n",
              "      <td>102</td>\n",
              "      <td>...</td>\n",
              "      <td>100</td>\n",
              "      <td>84</td>\n",
              "      <td>107</td>\n",
              "      <td>113</td>\n",
              "      <td>87</td>\n",
              "      <td>84</td>\n",
              "      <td>99</td>\n",
              "      <td>104</td>\n",
              "      <td>79</td>\n",
              "      <td>3</td>\n",
              "    </tr>\n",
              "    <tr>\n",
              "      <th>2</th>\n",
              "      <td>84</td>\n",
              "      <td>102</td>\n",
              "      <td>102</td>\n",
              "      <td>83</td>\n",
              "      <td>80</td>\n",
              "      <td>102</td>\n",
              "      <td>102</td>\n",
              "      <td>79</td>\n",
              "      <td>84</td>\n",
              "      <td>94</td>\n",
              "      <td>...</td>\n",
              "      <td>87</td>\n",
              "      <td>84</td>\n",
              "      <td>99</td>\n",
              "      <td>104</td>\n",
              "      <td>79</td>\n",
              "      <td>84</td>\n",
              "      <td>99</td>\n",
              "      <td>104</td>\n",
              "      <td>79</td>\n",
              "      <td>3</td>\n",
              "    </tr>\n",
              "    <tr>\n",
              "      <th>3</th>\n",
              "      <td>80</td>\n",
              "      <td>102</td>\n",
              "      <td>102</td>\n",
              "      <td>79</td>\n",
              "      <td>84</td>\n",
              "      <td>94</td>\n",
              "      <td>102</td>\n",
              "      <td>79</td>\n",
              "      <td>80</td>\n",
              "      <td>94</td>\n",
              "      <td>...</td>\n",
              "      <td>79</td>\n",
              "      <td>84</td>\n",
              "      <td>99</td>\n",
              "      <td>104</td>\n",
              "      <td>79</td>\n",
              "      <td>84</td>\n",
              "      <td>103</td>\n",
              "      <td>104</td>\n",
              "      <td>79</td>\n",
              "      <td>3</td>\n",
              "    </tr>\n",
              "    <tr>\n",
              "      <th>4</th>\n",
              "      <td>84</td>\n",
              "      <td>94</td>\n",
              "      <td>102</td>\n",
              "      <td>79</td>\n",
              "      <td>80</td>\n",
              "      <td>94</td>\n",
              "      <td>98</td>\n",
              "      <td>76</td>\n",
              "      <td>80</td>\n",
              "      <td>102</td>\n",
              "      <td>...</td>\n",
              "      <td>79</td>\n",
              "      <td>84</td>\n",
              "      <td>103</td>\n",
              "      <td>104</td>\n",
              "      <td>79</td>\n",
              "      <td>79</td>\n",
              "      <td>107</td>\n",
              "      <td>109</td>\n",
              "      <td>87</td>\n",
              "      <td>3</td>\n",
              "    </tr>\n",
              "    <tr>\n",
              "      <th>...</th>\n",
              "      <td>...</td>\n",
              "      <td>...</td>\n",
              "      <td>...</td>\n",
              "      <td>...</td>\n",
              "      <td>...</td>\n",
              "      <td>...</td>\n",
              "      <td>...</td>\n",
              "      <td>...</td>\n",
              "      <td>...</td>\n",
              "      <td>...</td>\n",
              "      <td>...</td>\n",
              "      <td>...</td>\n",
              "      <td>...</td>\n",
              "      <td>...</td>\n",
              "      <td>...</td>\n",
              "      <td>...</td>\n",
              "      <td>...</td>\n",
              "      <td>...</td>\n",
              "      <td>...</td>\n",
              "      <td>...</td>\n",
              "      <td>...</td>\n",
              "    </tr>\n",
              "    <tr>\n",
              "      <th>4430</th>\n",
              "      <td>56</td>\n",
              "      <td>64</td>\n",
              "      <td>108</td>\n",
              "      <td>96</td>\n",
              "      <td>64</td>\n",
              "      <td>71</td>\n",
              "      <td>108</td>\n",
              "      <td>96</td>\n",
              "      <td>68</td>\n",
              "      <td>75</td>\n",
              "      <td>...</td>\n",
              "      <td>92</td>\n",
              "      <td>66</td>\n",
              "      <td>83</td>\n",
              "      <td>108</td>\n",
              "      <td>96</td>\n",
              "      <td>66</td>\n",
              "      <td>87</td>\n",
              "      <td>104</td>\n",
              "      <td>89</td>\n",
              "      <td>5</td>\n",
              "    </tr>\n",
              "    <tr>\n",
              "      <th>4431</th>\n",
              "      <td>64</td>\n",
              "      <td>71</td>\n",
              "      <td>108</td>\n",
              "      <td>96</td>\n",
              "      <td>68</td>\n",
              "      <td>75</td>\n",
              "      <td>108</td>\n",
              "      <td>96</td>\n",
              "      <td>71</td>\n",
              "      <td>87</td>\n",
              "      <td>...</td>\n",
              "      <td>96</td>\n",
              "      <td>66</td>\n",
              "      <td>87</td>\n",
              "      <td>104</td>\n",
              "      <td>89</td>\n",
              "      <td>63</td>\n",
              "      <td>87</td>\n",
              "      <td>104</td>\n",
              "      <td>89</td>\n",
              "      <td>5</td>\n",
              "    </tr>\n",
              "    <tr>\n",
              "      <th>4432</th>\n",
              "      <td>68</td>\n",
              "      <td>75</td>\n",
              "      <td>108</td>\n",
              "      <td>96</td>\n",
              "      <td>71</td>\n",
              "      <td>87</td>\n",
              "      <td>108</td>\n",
              "      <td>88</td>\n",
              "      <td>71</td>\n",
              "      <td>91</td>\n",
              "      <td>...</td>\n",
              "      <td>89</td>\n",
              "      <td>63</td>\n",
              "      <td>87</td>\n",
              "      <td>104</td>\n",
              "      <td>89</td>\n",
              "      <td>70</td>\n",
              "      <td>100</td>\n",
              "      <td>104</td>\n",
              "      <td>85</td>\n",
              "      <td>4</td>\n",
              "    </tr>\n",
              "    <tr>\n",
              "      <th>4433</th>\n",
              "      <td>71</td>\n",
              "      <td>87</td>\n",
              "      <td>108</td>\n",
              "      <td>88</td>\n",
              "      <td>71</td>\n",
              "      <td>91</td>\n",
              "      <td>100</td>\n",
              "      <td>81</td>\n",
              "      <td>76</td>\n",
              "      <td>95</td>\n",
              "      <td>...</td>\n",
              "      <td>89</td>\n",
              "      <td>70</td>\n",
              "      <td>100</td>\n",
              "      <td>104</td>\n",
              "      <td>85</td>\n",
              "      <td>70</td>\n",
              "      <td>91</td>\n",
              "      <td>104</td>\n",
              "      <td>85</td>\n",
              "      <td>4</td>\n",
              "    </tr>\n",
              "    <tr>\n",
              "      <th>4434</th>\n",
              "      <td>71</td>\n",
              "      <td>91</td>\n",
              "      <td>100</td>\n",
              "      <td>81</td>\n",
              "      <td>76</td>\n",
              "      <td>95</td>\n",
              "      <td>108</td>\n",
              "      <td>88</td>\n",
              "      <td>80</td>\n",
              "      <td>95</td>\n",
              "      <td>...</td>\n",
              "      <td>85</td>\n",
              "      <td>70</td>\n",
              "      <td>91</td>\n",
              "      <td>104</td>\n",
              "      <td>85</td>\n",
              "      <td>63</td>\n",
              "      <td>91</td>\n",
              "      <td>100</td>\n",
              "      <td>81</td>\n",
              "      <td>4</td>\n",
              "    </tr>\n",
              "  </tbody>\n",
              "</table>\n",
              "<p>4435 rows × 37 columns</p>\n",
              "</div>\n",
              "      <button class=\"colab-df-convert\" onclick=\"convertToInteractive('df-34166d14-17df-4327-977d-0179aab120d3')\"\n",
              "              title=\"Convert this dataframe to an interactive table.\"\n",
              "              style=\"display:none;\">\n",
              "        \n",
              "  <svg xmlns=\"http://www.w3.org/2000/svg\" height=\"24px\"viewBox=\"0 0 24 24\"\n",
              "       width=\"24px\">\n",
              "    <path d=\"M0 0h24v24H0V0z\" fill=\"none\"/>\n",
              "    <path d=\"M18.56 5.44l.94 2.06.94-2.06 2.06-.94-2.06-.94-.94-2.06-.94 2.06-2.06.94zm-11 1L8.5 8.5l.94-2.06 2.06-.94-2.06-.94L8.5 2.5l-.94 2.06-2.06.94zm10 10l.94 2.06.94-2.06 2.06-.94-2.06-.94-.94-2.06-.94 2.06-2.06.94z\"/><path d=\"M17.41 7.96l-1.37-1.37c-.4-.4-.92-.59-1.43-.59-.52 0-1.04.2-1.43.59L10.3 9.45l-7.72 7.72c-.78.78-.78 2.05 0 2.83L4 21.41c.39.39.9.59 1.41.59.51 0 1.02-.2 1.41-.59l7.78-7.78 2.81-2.81c.8-.78.8-2.07 0-2.86zM5.41 20L4 18.59l7.72-7.72 1.47 1.35L5.41 20z\"/>\n",
              "  </svg>\n",
              "      </button>\n",
              "      \n",
              "  <style>\n",
              "    .colab-df-container {\n",
              "      display:flex;\n",
              "      flex-wrap:wrap;\n",
              "      gap: 12px;\n",
              "    }\n",
              "\n",
              "    .colab-df-convert {\n",
              "      background-color: #E8F0FE;\n",
              "      border: none;\n",
              "      border-radius: 50%;\n",
              "      cursor: pointer;\n",
              "      display: none;\n",
              "      fill: #1967D2;\n",
              "      height: 32px;\n",
              "      padding: 0 0 0 0;\n",
              "      width: 32px;\n",
              "    }\n",
              "\n",
              "    .colab-df-convert:hover {\n",
              "      background-color: #E2EBFA;\n",
              "      box-shadow: 0px 1px 2px rgba(60, 64, 67, 0.3), 0px 1px 3px 1px rgba(60, 64, 67, 0.15);\n",
              "      fill: #174EA6;\n",
              "    }\n",
              "\n",
              "    [theme=dark] .colab-df-convert {\n",
              "      background-color: #3B4455;\n",
              "      fill: #D2E3FC;\n",
              "    }\n",
              "\n",
              "    [theme=dark] .colab-df-convert:hover {\n",
              "      background-color: #434B5C;\n",
              "      box-shadow: 0px 1px 3px 1px rgba(0, 0, 0, 0.15);\n",
              "      filter: drop-shadow(0px 1px 2px rgba(0, 0, 0, 0.3));\n",
              "      fill: #FFFFFF;\n",
              "    }\n",
              "  </style>\n",
              "\n",
              "      <script>\n",
              "        const buttonEl =\n",
              "          document.querySelector('#df-34166d14-17df-4327-977d-0179aab120d3 button.colab-df-convert');\n",
              "        buttonEl.style.display =\n",
              "          google.colab.kernel.accessAllowed ? 'block' : 'none';\n",
              "\n",
              "        async function convertToInteractive(key) {\n",
              "          const element = document.querySelector('#df-34166d14-17df-4327-977d-0179aab120d3');\n",
              "          const dataTable =\n",
              "            await google.colab.kernel.invokeFunction('convertToInteractive',\n",
              "                                                     [key], {});\n",
              "          if (!dataTable) return;\n",
              "\n",
              "          const docLinkHtml = 'Like what you see? Visit the ' +\n",
              "            '<a target=\"_blank\" href=https://colab.research.google.com/notebooks/data_table.ipynb>data table notebook</a>'\n",
              "            + ' to learn more about interactive tables.';\n",
              "          element.innerHTML = '';\n",
              "          dataTable['output_type'] = 'display_data';\n",
              "          await google.colab.output.renderOutput(dataTable, element);\n",
              "          const docLink = document.createElement('div');\n",
              "          docLink.innerHTML = docLinkHtml;\n",
              "          element.appendChild(docLink);\n",
              "        }\n",
              "      </script>\n",
              "    </div>\n",
              "  </div>\n",
              "  "
            ]
          },
          "metadata": {},
          "execution_count": 84
        }
      ]
    },
    {
      "cell_type": "markdown",
      "source": [
        "Random Forest là một thuật toán phân loại mạnh mẽ và phổ biến trong lĩnh vực học máy và thị giác máy tính. Để áp dụng thuật toán Random Forest cho tập dữ liệu Statlog (Landsat Satellite), bạn có thể làm theo các bước sau:\n",
        "\n",
        "1. Chuẩn bị dữ liệu: Bạn cần chuẩn bị tập dữ liệu Statlog (Landsat Satellite) và chia nó thành tập huấn luyện và tập kiểm tra. Các tính năng của dữ liệu cần được chuẩn hoá trước khi đưa vào huấn luyện và kiểm tra.\n",
        "\n",
        "2. Tạo mô hình: Bạn có thể tạo một mô hình Random Forest bằng cách sử dụng các thư viện học máy phổ biến như scikit-learn trong Python. Bạn cần chỉ định các siêu tham số cho mô hình như số lượng cây quyết định và số lượng tính năng được sử dụng lựa chọn ở mỗi nút trong mỗi cây.\n",
        "\n",
        "3. Huấn luyện mô hình: Sau khi có mô hình, bạn có thể huấn luyện n\\ó trên tập dữ liệu huấn luyện. Trong quá trình huấn luyện, các cây quyết định trong mô hình Random Forest sẽ được sinh ra và tập hợp ý kiến của chúng sẽ được sử dụng để đưa ra quyết định cuối cùng.\n",
        "\n",
        "4. Kiểm tra mô hình: Sau khi huấn luyện mô hình, bạn cần sử dụng tập kiểm tra để kiểm tra độ chính xác của mô hình. Bạn cần so sánh kết quả dự đoán của mô hình với nhãn thực tế của từng điểm dữ liệu để đánh giá độ chính xác của mô hình.\n",
        "\n",
        "5. Đánh giá mô hình và tinh chỉnh siêu tham số: Nếu mô hình không đạt được độ chính xác mong đợi, bạn có thể thử điều chỉnh các siêu tham số của mô hình như số lượng cây quyết định hoặc số lượng tính năng được sử dụng lựa chọn ở mỗi nút để đạt được kết quả tốt hơn.\n"
      ],
      "metadata": {
        "id": "ldcXG9H9glT9"
      }
    },
    {
      "cell_type": "markdown",
      "source": [
        "max_features='sqrt': là số lượng đặc trưng (features) được sử dụng để xây dựng mỗi cây quyết định. Đối với mô hình này, chúng ta sử dụng căn bậc hai của tổng số đặc trưng có sẵn, được tính bằng cách sử dụng tham số đầu vào ‘sqrt’. Theo đó, nếu tổng số đặc trưng là 20 thì mỗi cây quyết định sẽ sử dụng khoảng 4 đến 5 đặc trưng ngẫu nhiên để xây dựng.\n",
        "\n",
        "n_estimators=100: là số lượng cây quyết định (decision tree) được sử dụng trong mô hình"
      ],
      "metadata": {
        "id": "oXHv7QD0IzlW"
      }
    },
    {
      "cell_type": "code",
      "source": [
        "# Xây dựng mô hình Random Forest \n",
        "rf_model = RandomForestClassifier(n_estimators=100, max_features='sqrt') \n",
        "# Huấn luyện mô hình trên tập huấn luyện \n",
        "rf_model.fit(X_train, y_train) \n",
        "# Sử dụng mô hình để dự đoán kết quả trên tập kiểm tra \n",
        "y_pred = rf_model.predict(X_test) \n",
        "# Đánh giá độ chính xác của mô hình trên tập kiểm tra \n",
        "acc_rf = accuracy_score(y_test, y_pred) \n",
        "print(\"Accuracy:\", acc_rf)"
      ],
      "metadata": {
        "colab": {
          "base_uri": "https://localhost:8080/"
        },
        "id": "FIL8F83d0CTJ",
        "outputId": "dde667b5-648a-4879-d38a-dec49da061fb"
      },
      "execution_count": null,
      "outputs": [
        {
          "output_type": "stream",
          "name": "stdout",
          "text": [
            "Accuracy: 0.909\n"
          ]
        }
      ]
    },
    {
      "cell_type": "markdown",
      "source": [
        "KNN"
      ],
      "metadata": {
        "id": "Ems8-Rnepbt7"
      }
    },
    {
      "cell_type": "code",
      "source": [
        "from sklearn.neighbors import KNeighborsClassifier\n",
        "#k=50\n",
        "knn_model = KNeighborsClassifier(n_neighbors=50) \n",
        "# Huấn luyện mô hình trên tập huấn luyện\n",
        "knn_model.fit(X_train, y_train)\n",
        "# Sử dụng mô hình để dự đoán kết quả trên tập kiểm tra \n",
        "y_pred = knn_model.predict(X_test)\n",
        "acc_knn = accuracy_score(y_test, y_pred) \n",
        "print(\"Accuracy:\", acc_knn)"
      ],
      "metadata": {
        "colab": {
          "base_uri": "https://localhost:8080/"
        },
        "id": "gtSIZVgdpcnK",
        "outputId": "279cb9e9-3cd0-46b0-8d8b-283a8a42f4fa"
      },
      "execution_count": null,
      "outputs": [
        {
          "output_type": "stream",
          "name": "stdout",
          "text": [
            "Accuracy: 0.8675\n"
          ]
        }
      ]
    },
    {
      "cell_type": "markdown",
      "source": [
        "Bayes"
      ],
      "metadata": {
        "id": "lPR8IGY3qVI3"
      }
    },
    {
      "cell_type": "code",
      "source": [
        "from sklearn.naive_bayes import GaussianNB\n",
        "bayes_model = GaussianNB()\n",
        "bayes_model.fit(X_train, y_train)\n",
        "y_pred = bayes_model.predict(X_test)\n",
        "acc_bayes = accuracy_score(y_test, y_pred)\n",
        "print(\"Accuracy:\", acc_bayes)"
      ],
      "metadata": {
        "colab": {
          "base_uri": "https://localhost:8080/"
        },
        "id": "5LR1C8jSqYpM",
        "outputId": "07ca6e15-2924-4cae-ee23-58bbc28d742c"
      },
      "execution_count": null,
      "outputs": [
        {
          "output_type": "stream",
          "name": "stdout",
          "text": [
            "Accuracy: 0.7965\n"
          ]
        }
      ]
    },
    {
      "cell_type": "markdown",
      "source": [
        "Cây quyết định \n"
      ],
      "metadata": {
        "id": "PuGx-T8jqxho"
      }
    },
    {
      "cell_type": "code",
      "source": [
        "from sklearn.tree import DecisionTreeClassifier\n",
        "# Xây dựng mô hình decision tree\n",
        "dt_model = DecisionTreeClassifier(criterion=\"gini\",max_depth=5)\n",
        "# Huấn luyện mô hình trên tập huấn luyện\n",
        "dt_model.fit(X_train, y_train)\n",
        "# Sử dụng mô hình để dự đoán kết quả trên tập kiểm tra\n",
        "y_pred = dt_model.predict(X_test)\n",
        "# Đánh giá độ chính xác của mô hình trên tập kiểm tra\n",
        "acc_dt = accuracy_score(y_test, y_pred)\n",
        "print(\"Accuracy:\", acc_dt)"
      ],
      "metadata": {
        "colab": {
          "base_uri": "https://localhost:8080/"
        },
        "id": "b1lFyprxqzDD",
        "outputId": "0d3851ae-d15a-40f9-ce92-275419cd9124"
      },
      "execution_count": null,
      "outputs": [
        {
          "output_type": "stream",
          "name": "stdout",
          "text": [
            "Accuracy: 0.8065\n"
          ]
        }
      ]
    },
    {
      "cell_type": "code",
      "source": [
        "import matplotlib.pyplot as plt\n",
        "\n",
        "models = ['KNN', 'Bayes','Random Forest','Decision Tree'] \n",
        "accuracy = [acc_knn, acc_bayes,acc_rf,acc_dt] \n",
        "plt.bar(models, accuracy, color='gray') \n",
        "plt.ylabel(\"Accuracy\") \n",
        "plt.ylim(0.0, 1.0) \n",
        "plt.show()"
      ],
      "metadata": {
        "colab": {
          "base_uri": "https://localhost:8080/",
          "height": 435
        },
        "id": "YE2o_5CohKIm",
        "outputId": "a950e25d-2e41-4bba-b5db-6478c5b74f2c"
      },
      "execution_count": null,
      "outputs": [
        {
          "output_type": "display_data",
          "data": {
            "text/plain": [
              "<Figure size 640x480 with 1 Axes>"
            ],
            "image/png": "[encoded data removed]"
          },
          "metadata": {}
        }
      ]
    }
  ]
}